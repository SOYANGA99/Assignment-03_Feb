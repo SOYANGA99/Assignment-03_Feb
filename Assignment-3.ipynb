{
 "cells": [
  {
   "cell_type": "raw",
   "id": "6140d2ef-962a-4bd0-9fa5-d815e2037660",
   "metadata": {},
   "source": [
    "Q1. Which keyword is used to create a function?Create a function to return a list of odd numbers in the range of 1 to 25.\n",
    "\n",
    "Ans:- def keyword is used to create a function."
   ]
  },
  {
   "cell_type": "code",
   "execution_count": 2,
   "id": "cd24d262-eda0-4abe-b898-52375fe76b5e",
   "metadata": {},
   "outputs": [],
   "source": [
    "def fun():\n",
    "    l1 = []\n",
    "    for i in range(1,26) :\n",
    "        if i % 2 !=0 :\n",
    "            l1.append(i)\n",
    "    return l1"
   ]
  },
  {
   "cell_type": "code",
   "execution_count": 3,
   "id": "fc6fe949-9a5f-4a67-a0d0-45145abfcd57",
   "metadata": {},
   "outputs": [
    {
     "data": {
      "text/plain": [
       "[1, 3, 5, 7, 9, 11, 13, 15, 17, 19, 21, 23, 25]"
      ]
     },
     "execution_count": 3,
     "metadata": {},
     "output_type": "execute_result"
    }
   ],
   "source": [
    "fun()"
   ]
  },
  {
   "cell_type": "raw",
   "id": "ed90965c-ed10-4886-899d-d9790adc9d28",
   "metadata": {},
   "source": [
    "Q.2 Why *args and **kwargs is used in some functions? Create a function each for *args and **kwargs to demonstrate their use.\n",
    "\n",
    "Ans:- We use *args and **kwargs as an argument when we are unsure about the number of arguments to pass in the functions.\n",
    "\n",
    "=> *args in function is used to pass a variable number of arguments to a function. It is used to pass a non-key worded, variable-length argument list.\n",
    "\n",
    "=> **kwargs in function is used to pass a keyworded, variable-length argument list. We use the name kwargs with the double star. The reason is that the double star allows us to pass through keyword arguments => kwargs is a dictionary that maps each keyword to the value."
   ]
  },
  {
   "cell_type": "code",
   "execution_count": 4,
   "id": "4e630a76-2ee6-4b03-8dd1-38b48df9ea15",
   "metadata": {},
   "outputs": [
    {
     "name": "stdout",
     "output_type": "stream",
     "text": [
      "Hello\n",
      "Welcome\n",
      "to\n",
      "Datascience Masters\n"
     ]
    }
   ],
   "source": [
    "#Function for *args\n",
    "def fun_argu(*data):\n",
    "    for arg in data:\n",
    "        print(arg)\n",
    " \n",
    " \n",
    "fun_argu('Hello', 'Welcome', 'to', 'Datascience Masters')"
   ]
  },
  {
   "cell_type": "code",
   "execution_count": 5,
   "id": "7c3d5439-88d8-409d-b6f9-8a846ca54b7a",
   "metadata": {},
   "outputs": [
    {
     "name": "stdout",
     "output_type": "stream",
     "text": [
      "coursename == Datascience Masters\n",
      "name == John\n",
      "company == pwskills\n"
     ]
    }
   ],
   "source": [
    "#Function for **kwargs\n",
    "def fun_argu(**kwargs):\n",
    "    for key, value in kwargs.items():\n",
    "        print(\"%s == %s\" % (key, value))\n",
    " \n",
    " \n",
    "# Driver code\n",
    "fun_argu(coursename='Datascience Masters', name='John', company='pwskills')"
   ]
  },
  {
   "cell_type": "raw",
   "id": "abe5fb86-cd87-414d-81fd-6ba81a66651c",
   "metadata": {},
   "source": [
    "Q.3 What is an iterator in python?Name the method used to initialize the iterator object and the method used for iterator. Use these methods to print the first five elements of the given list[2,4,6,8,10,12,14,16,18,20]\n",
    "\n",
    "Ans:- An iterator is an object that contains a countable number of values.\n",
    "\n",
    "=> Iterators are methods that iterate collections like lists, tuples, etc. Using an iterator method, we can loop through an object and return its elements.\n",
    "=> When we use the for loop with an iterator, the loop will automatically iterate over the elements of the iterator until it is exhausted.\n",
    "=> The iterator object is initialized using the iter() method. It uses the next() method for iteration."
   ]
  },
  {
   "cell_type": "code",
   "execution_count": 9,
   "id": "e541c18c-b4bc-4485-83ff-cce3307b88c6",
   "metadata": {},
   "outputs": [
    {
     "name": "stdout",
     "output_type": "stream",
     "text": [
      "2\n",
      "3\n",
      "4\n",
      "5\n",
      "10\n"
     ]
    }
   ],
   "source": [
    "# Use these methods to print the first five elements of the given list[2,4,6,8,10,12,14,16,18,20]\n",
    "l=[2,3,4,5,10,12,14,16,18,20]\n",
    "count =0\n",
    "for i in l:\n",
    "    if count < 5:\n",
    "        print (i)\n",
    "        count += 1"
   ]
  },
  {
   "cell_type": "raw",
   "id": "649b1ce1-1061-43ce-9054-20d99040e712",
   "metadata": {},
   "source": [
    "Q4. What is a generator function in python? Why yield keyword is used? Give an example of a generator function.\n",
    "\n",
    "Ans: A generator function in Python is a special type of function that returns a generator iterator, which can be used to iterate over a sequence of elements.\n",
    "\n",
    "=>A generator function is defined like a normal function, but instead of using the return statement to return a value, it uses the yield statement. =>The yield statement is used to produce a value, and the generator function can be resumed from where it left off the next time next() is called on the generator. =>Examples of iterable objects that are used more commonly include lists, dictionaries, and strings."
   ]
  },
  {
   "cell_type": "code",
   "execution_count": 10,
   "id": "52eed116-51c3-486e-85ae-11a9900e041e",
   "metadata": {},
   "outputs": [
    {
     "name": "stdout",
     "output_type": "stream",
     "text": [
      "0\n",
      "1\n",
      "1\n",
      "2\n",
      "3\n",
      "5\n",
      "8\n",
      "13\n",
      "21\n",
      "34\n"
     ]
    }
   ],
   "source": [
    "#fibonacci series program using generator yield\n",
    "def fibonacci():\n",
    "    a, b = 0, 1\n",
    "    while True:\n",
    "        yield a\n",
    "        a, b = b, a + b\n",
    "\n",
    "fib = fibonacci()\n",
    "for i in range(10):\n",
    "    print(next(fib))"
   ]
  },
  {
   "cell_type": "raw",
   "id": "5ed1213d-45c4-437f-95c7-2b307ab91381",
   "metadata": {},
   "source": [
    "Q.5 Create a generator function for prime numbers less than 1000.Use the next() method to print the first 20 prime numbers."
   ]
  },
  {
   "cell_type": "code",
   "execution_count": 14,
   "id": "4e3483e4-c561-4183-ae2e-887194e462a8",
   "metadata": {},
   "outputs": [
    {
     "ename": "IndentationError",
     "evalue": "unindent does not match any outer indentation level (<tokenize>, line 14)",
     "output_type": "error",
     "traceback": [
      "\u001b[0;36m  File \u001b[0;32m<tokenize>:14\u001b[0;36m\u001b[0m\n\u001b[0;31m    yield i\u001b[0m\n\u001b[0m    ^\u001b[0m\n\u001b[0;31mIndentationError\u001b[0m\u001b[0;31m:\u001b[0m unindent does not match any outer indentation level\n"
     ]
    }
   ],
   "source": [
    "def prime() :\n",
    "    yield 2\n",
    "    primeno_list = [2]\n",
    "    for i in range(3,1000):\n",
    "        isPrime = True\n",
    "        \n",
    "        for j in range(3,i):\n",
    "            \n",
    "            if i % j == 0:\n",
    "                isPrime = False\n",
    "                break\n",
    "        if isPrime:\n",
    "            primeno_list.append(i)\n",
    "            yield i"
   ]
  },
  {
   "cell_type": "code",
   "execution_count": 18,
   "id": "d43901e7-bafc-4873-b6fd-a64229046051",
   "metadata": {},
   "outputs": [],
   "source": [
    "def prime() :\n",
    "    yield 2\n",
    "    primeno_list = [2]\n",
    "    for i in range(3,1000):\n",
    "        isPrime = True\n",
    "        \n",
    "        for j in range(3, i):\n",
    "            if i % j == 0:\n",
    "                isPrime = False\n",
    "                break\n",
    "        if isPrime:\n",
    "            primeno_list.append(i)\n",
    "            yield i"
   ]
  },
  {
   "cell_type": "code",
   "execution_count": 19,
   "id": "1059eb43-ca27-4a3a-b4c8-d3325b3c16f9",
   "metadata": {},
   "outputs": [],
   "source": [
    "prm = prime()"
   ]
  },
  {
   "cell_type": "code",
   "execution_count": 20,
   "id": "f55d7696-2eb0-4c13-a64e-3f17ebe22612",
   "metadata": {},
   "outputs": [
    {
     "name": "stdout",
     "output_type": "stream",
     "text": [
      "2\n",
      "3\n",
      "4\n",
      "5\n",
      "7\n",
      "11\n",
      "13\n",
      "17\n",
      "19\n",
      "23\n",
      "29\n",
      "31\n",
      "37\n",
      "41\n",
      "43\n",
      "47\n",
      "53\n",
      "59\n",
      "61\n",
      "67\n"
     ]
    }
   ],
   "source": [
    "for i in range(20):\n",
    "    print(next(prm))"
   ]
  },
  {
   "cell_type": "raw",
   "id": "73c4141b-c952-451e-b49e-4c54c0c25327",
   "metadata": {},
   "source": [
    "Que-6 : Write a python program to print the first 10 fibonacci numbers using a while loop."
   ]
  },
  {
   "cell_type": "code",
   "execution_count": 23,
   "id": "9100d8aa-fd00-4407-b96b-584ac50a2818",
   "metadata": {},
   "outputs": [
    {
     "name": "stdout",
     "output_type": "stream",
     "text": [
      "0\n",
      "1\n",
      "1\n",
      "2\n",
      "3\n",
      "5\n",
      "8\n",
      "13\n",
      "21\n",
      "34\n"
     ]
    }
   ],
   "source": [
    "#Fibonacci series:-\n",
    "num=10\n",
    "a,b = 0, 1\n",
    "count=0\n",
    "while count < 10:\n",
    "    print(a)\n",
    "    c=a+b\n",
    "    a=b\n",
    "    b=c\n",
    "    count += 1"
   ]
  },
  {
   "cell_type": "raw",
   "id": "5dcc71ee-7be1-4207-8e94-8e0f98fc7998",
   "metadata": {},
   "source": [
    "Que-7 : Write a list comprehension to iterate through the given string: 'pwskills'.\n",
    "\n",
    "Expected output: ['p' , 'w' , 's' , 'k', 'i', 'l', 'l', 's']"
   ]
  },
  {
   "cell_type": "code",
   "execution_count": 24,
   "id": "28042116-8e41-453a-9d20-e89a36839390",
   "metadata": {},
   "outputs": [
    {
     "data": {
      "text/plain": [
       "['p', 'w', 's', 'k', 'i', 'l', 'l', 's']"
      ]
     },
     "execution_count": 24,
     "metadata": {},
     "output_type": "execute_result"
    }
   ],
   "source": [
    "s = \"pwskills\"\n",
    "[i for i in s]\n",
    "    "
   ]
  },
  {
   "cell_type": "raw",
   "id": "751cb442-57f4-43a6-b3f5-58154c9d16bf",
   "metadata": {},
   "source": [
    "Que-8 : Write a python program to check a given number is palindrome or not using a while loop."
   ]
  },
  {
   "cell_type": "code",
   "execution_count": 29,
   "id": "34deedd1-4f17-45f8-a629-9422d086d234",
   "metadata": {},
   "outputs": [
    {
     "name": "stdin",
     "output_type": "stream",
     "text": [
      "Enter a number:- 212\n"
     ]
    },
    {
     "name": "stdout",
     "output_type": "stream",
     "text": [
      "Number is Palindrome\n"
     ]
    }
   ],
   "source": [
    "no = int(input(\"Enter a number:-\"))\n",
    "rev = 0\n",
    "no1 = no # Assign the number an another variable\n",
    "while no != 0:\n",
    "    dg = no%10\n",
    "    rev = rev * 10 + dg\n",
    "    no = no // 10\n",
    "    \n",
    "if no1 == rev:\n",
    "    print(\"Number is Palindrome\")\n",
    "else:\n",
    "    print(\"Number is not Palindrome\")"
   ]
  },
  {
   "cell_type": "raw",
   "id": "8981c209-3c4d-4cbd-9259-7db7de5d584e",
   "metadata": {},
   "source": [
    "Que-9 : Write a code to print odd numbers from 1 to 100 using list comprehension."
   ]
  },
  {
   "cell_type": "code",
   "execution_count": 31,
   "id": "440aa832-9700-4a1b-8950-6dd0bd40811a",
   "metadata": {},
   "outputs": [
    {
     "name": "stdout",
     "output_type": "stream",
     "text": [
      "The odd numbers from 1 - 100 are:- [1, 3, 5, 7, 9, 11, 13, 15, 17, 19, 21, 23, 25, 27, 29, 31, 33, 35, 37, 39, 41, 43, 45, 47, 49, 51, 53, 55, 57, 59, 61, 63, 65, 67, 69, 71, 73, 75, 77, 79, 81, 83, 85, 87, 89, 91, 93, 95, 97, 99] "
     ]
    }
   ],
   "source": [
    "# By using Comprehension:- \n",
    "l=[ i for i in range(1,100) if i % 2 !=0]\n",
    "print(\"The odd numbers from 1 - 100 are:-\", l , end=\" \")"
   ]
  },
  {
   "cell_type": "code",
   "execution_count": null,
   "id": "a8a3913c-2691-43c5-87fa-0314673c1cd7",
   "metadata": {},
   "outputs": [],
   "source": []
  }
 ],
 "metadata": {
  "kernelspec": {
   "display_name": "Python 3 (ipykernel)",
   "language": "python",
   "name": "python3"
  },
  "language_info": {
   "codemirror_mode": {
    "name": "ipython",
    "version": 3
   },
   "file_extension": ".py",
   "mimetype": "text/x-python",
   "name": "python",
   "nbconvert_exporter": "python",
   "pygments_lexer": "ipython3",
   "version": "3.10.6"
  }
 },
 "nbformat": 4,
 "nbformat_minor": 5
}
